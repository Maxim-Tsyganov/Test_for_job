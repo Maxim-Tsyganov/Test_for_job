{
 "cells": [
  {
   "cell_type": "markdown",
   "metadata": {},
   "source": [
    "# Тестовое задание\n",
    "\n",
    "В данном задании необходимо написать код, который считает следующие признаки для каждого клиента `user_id`:\n",
    "\n",
    "1. `events_ordinal_number` - порядковый номер события\n",
    "2. `second_event_time` - время второго события\n",
    "2.\t`loan_ordinal_number` - порядковый номер займа\n",
    "2.\t`events_time_diff` - разница во времени между событиями\n",
    "2.\t`previous_loans_max_amount` - максимальная сумма предыдущего займа.\n"
   ]
  },
  {
   "cell_type": "markdown",
   "metadata": {},
   "source": [
    "### Подготовка датафрейма"
   ]
  },
  {
   "cell_type": "code",
   "execution_count": 1,
   "metadata": {
    "ExecuteTime": {
     "end_time": "2022-01-31T03:49:42.126788Z",
     "start_time": "2022-01-31T03:49:42.123378Z"
    }
   },
   "outputs": [],
   "source": [
    "import numpy as np\n",
    "import pandas as pd\n",
    "from datetime import datetime"
   ]
  },
  {
   "cell_type": "code",
   "execution_count": 2,
   "metadata": {
    "ExecuteTime": {
     "end_time": "2022-01-31T03:49:43.232607Z",
     "start_time": "2022-01-31T03:49:42.885224Z"
    }
   },
   "outputs": [],
   "source": [
    "size = 10000\n",
    "\n",
    "df = pd.DataFrame(\n",
    "    {\n",
    "        'time': [*pd.date_range('2001-01-01', '2020-09-01', freq='1h')][:size],\n",
    "        'user_id': np.random.choice(1000, size),\n",
    "        'type':    np.random.choice(2, size, p=[0.8, 0.2]),\n",
    "        'amount': [int(x//1) for x in  np.random.normal(15_000, 1_000, size)],\n",
    "        'target': np.random.choice(2, size, p=[0.5, 0.5]),\n",
    "    },\n",
    "    index=[*range(size)],\n",
    ")"
   ]
  },
  {
   "cell_type": "code",
   "execution_count": 3,
   "metadata": {
    "ExecuteTime": {
     "end_time": "2022-01-31T03:49:46.319681Z",
     "start_time": "2022-01-31T03:49:46.314034Z"
    }
   },
   "outputs": [],
   "source": [
    "df['is_loan'] = df['type']\n",
    "df['type'] = df['type'].replace({0: 'loanRequest', 1: 'loan'})"
   ]
  },
  {
   "cell_type": "code",
   "execution_count": 4,
   "metadata": {
    "ExecuteTime": {
     "end_time": "2022-01-31T03:49:47.046951Z",
     "start_time": "2022-01-31T03:49:47.008314Z"
    }
   },
   "outputs": [],
   "source": [
    "df.to_csv('test_origin.csv', index=False)"
   ]
  },
  {
   "cell_type": "markdown",
   "metadata": {},
   "source": [
    "### Расчет признаков"
   ]
  },
  {
   "cell_type": "markdown",
   "metadata": {},
   "source": [
    "#### Признак `events_ordinal_number`"
   ]
  },
  {
   "cell_type": "code",
   "execution_count": 5,
   "metadata": {
    "ExecuteTime": {
     "end_time": "2022-01-31T03:51:18.742585Z",
     "start_time": "2022-01-31T03:51:18.739041Z"
    }
   },
   "outputs": [],
   "source": [
    "# весь код расчета признака должен быть в этом методе\n",
    "def calculate_events_number(df):\n",
    "    \n",
    "    df['events_ordinal_number'] = df.groupby('user_id').cumcount().add(1)\n",
    "    \n",
    "    return df"
   ]
  },
  {
   "cell_type": "markdown",
   "metadata": {},
   "source": [
    "#### Признак `second_event_time`"
   ]
  },
  {
   "cell_type": "code",
   "execution_count": 6,
   "metadata": {
    "ExecuteTime": {
     "end_time": "2022-01-31T03:51:20.999794Z",
     "start_time": "2022-01-31T03:51:20.996142Z"
    }
   },
   "outputs": [],
   "source": [
    "# весь код расчета признака должен быть в этом методе\n",
    "def calculate_second_event_time(df):\n",
    "    \n",
    "    \n",
    "    df['second_event_time'] = df[['user_id']].merge(\n",
    "                                  df.groupby('user_id').time.apply(\n",
    "                                      lambda x: x.iloc[1] if x.size > 2 else np.nan),\n",
    "                                  left_on='user_id', \n",
    "                                  right_index=True, \n",
    "                                  how='left',\n",
    "                              ).time\n",
    "        \n",
    "    return df"
   ]
  },
  {
   "cell_type": "markdown",
   "metadata": {},
   "source": [
    "#### Признак `loan_ordinal_number`"
   ]
  },
  {
   "cell_type": "code",
   "execution_count": 7,
   "metadata": {
    "ExecuteTime": {
     "end_time": "2022-01-31T03:51:22.879197Z",
     "start_time": "2022-01-31T03:51:22.875652Z"
    }
   },
   "outputs": [],
   "source": [
    "# весь код расчета признака должен быть в этом методе\n",
    "def calculate_loan_number(df):\n",
    "\n",
    "    df['loan_ordinal_number'] = df.groupby('user_id').is_loan.cumsum().add(1).sub(df.is_loan)\n",
    "\n",
    "    return df"
   ]
  },
  {
   "cell_type": "markdown",
   "metadata": {},
   "source": [
    "#### Признак `events_time_diff`"
   ]
  },
  {
   "cell_type": "code",
   "execution_count": 8,
   "metadata": {
    "ExecuteTime": {
     "end_time": "2022-01-31T03:51:25.018203Z",
     "start_time": "2022-01-31T03:51:25.014557Z"
    }
   },
   "outputs": [],
   "source": [
    "# весь код расчета признака должен быть в этом методе\n",
    "def calculate_time_diff(df):\n",
    "\n",
    "    df['events_time_diff'] = df.groupby('user_id').time.apply(lambda x: x - x.shift())\n",
    "\n",
    "    return df"
   ]
  },
  {
   "cell_type": "markdown",
   "metadata": {},
   "source": [
    "#### Признак `previous_loans_max_amount`"
   ]
  },
  {
   "cell_type": "code",
   "execution_count": 9,
   "metadata": {
    "ExecuteTime": {
     "end_time": "2022-01-31T03:51:26.966306Z",
     "start_time": "2022-01-31T03:51:26.961723Z"
    }
   },
   "outputs": [],
   "source": [
    "# весь код расчета признака должен быть в этом методе\n",
    "def calculate_previous_max_amount(df):\n",
    "    \n",
    "    df['previous_loans_max_amount'] = df[['user_id']].merge(\n",
    "                                          df[['user_id']].merge(\n",
    "                                              df[df.is_loan ==1].amount, \n",
    "                                              left_index=True, \n",
    "                                              right_index=True, \n",
    "                                              how='left'\n",
    "                                              ).groupby('user_id').amount.apply(lambda x: x.shift().expanding().max()\n",
    "                                              ).reset_index(level=0, drop=True), \n",
    "                                          left_index=True, \n",
    "                                          right_index=True,\n",
    "                                          how='left').amount\n",
    "    \n",
    "    return df"
   ]
  },
  {
   "cell_type": "markdown",
   "metadata": {},
   "source": [
    "### Сохранение итогового датасета с признаками\n",
    "\n",
    "Этот код трогать не нужно."
   ]
  },
  {
   "cell_type": "code",
   "execution_count": 10,
   "metadata": {
    "ExecuteTime": {
     "end_time": "2022-01-31T03:51:29.334833Z",
     "start_time": "2022-01-31T03:51:29.331495Z"
    }
   },
   "outputs": [],
   "source": [
    "def calculate_feature(df):\n",
    "    calculate_events_number(df)\n",
    "    calculate_second_event_time(df)\n",
    "    calculate_loan_number(df)\n",
    "    calculate_time_diff(df)\n",
    "    calculate_previous_max_amount(df)"
   ]
  },
  {
   "cell_type": "code",
   "execution_count": 11,
   "metadata": {
    "ExecuteTime": {
     "end_time": "2022-01-31T03:53:20.750966Z",
     "start_time": "2022-01-31T03:53:17.888812Z"
    },
    "scrolled": false
   },
   "outputs": [
    {
     "name": "stdout",
     "output_type": "stream",
     "text": [
      "1.03 s ± 31.2 ms per loop (mean ± std. dev. of 7 runs, 1 loop each)\n"
     ]
    },
    {
     "data": {
      "text/plain": [
       "<TimeitResult : 1.03 s ± 31.2 ms per loop (mean ± std. dev. of 7 runs, 1 loop each)>"
      ]
     },
     "execution_count": 11,
     "metadata": {},
     "output_type": "execute_result"
    }
   ],
   "source": [
    "%%timeit -o \n",
    "calculate_feature(df)"
   ]
  },
  {
   "cell_type": "code",
   "execution_count": 111,
   "metadata": {
    "ExecuteTime": {
     "end_time": "2022-01-31T03:53:22.588760Z",
     "start_time": "2022-01-31T03:53:22.583736Z"
    }
   },
   "outputs": [],
   "source": [
    "columns = ['time']\n",
    "rez = _\n",
    "df_time = pd.DataFrame([rez], None, columns)\n",
    "df_time.to_csv('time.csv', index=False)"
   ]
  },
  {
   "cell_type": "code",
   "execution_count": 47,
   "metadata": {
    "ExecuteTime": {
     "end_time": "2022-01-27T10:22:50.404760Z",
     "start_time": "2022-01-27T10:22:50.349771Z"
    }
   },
   "outputs": [],
   "source": [
    "df.to_csv('test.csv', index=False)"
   ]
  },
  {
   "cell_type": "code",
   "execution_count": null,
   "metadata": {},
   "outputs": [],
   "source": []
  }
 ],
 "metadata": {
  "kernelspec": {
   "display_name": "Python 3 (ipykernel)",
   "language": "python",
   "name": "python3"
  },
  "language_info": {
   "codemirror_mode": {
    "name": "ipython",
    "version": 3
   },
   "file_extension": ".py",
   "mimetype": "text/x-python",
   "name": "python",
   "nbconvert_exporter": "python",
   "pygments_lexer": "ipython3",
   "version": "3.9.7"
  },
  "varInspector": {
   "cols": {
    "lenName": 16,
    "lenType": 16,
    "lenVar": 40
   },
   "kernels_config": {
    "python": {
     "delete_cmd_postfix": "",
     "delete_cmd_prefix": "del ",
     "library": "var_list.py",
     "varRefreshCmd": "print(var_dic_list())"
    },
    "r": {
     "delete_cmd_postfix": ") ",
     "delete_cmd_prefix": "rm(",
     "library": "var_list.r",
     "varRefreshCmd": "cat(var_dic_list()) "
    }
   },
   "types_to_exclude": [
    "module",
    "function",
    "builtin_function_or_method",
    "instance",
    "_Feature"
   ],
   "window_display": false
  }
 },
 "nbformat": 4,
 "nbformat_minor": 4
}
