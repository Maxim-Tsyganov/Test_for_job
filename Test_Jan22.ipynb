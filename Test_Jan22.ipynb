{
 "cells": [
  {
   "cell_type": "code",
   "execution_count": 1,
   "id": "7863a516",
   "metadata": {},
   "outputs": [],
   "source": [
    "import numpy as np\n",
    "import pandas as pd\n",
    "import seaborn as sns\n",
    "import matplotlib.pyplot as plt\n",
    "from scipy.stats import chi2_contingency\n",
    "from datetime import datetime"
   ]
  },
  {
   "cell_type": "markdown",
   "id": "9f7921a6",
   "metadata": {},
   "source": [
    "Задача: Нужно проверить статистические гипотезы о значимости признаков feature1 и feature2  \n",
    "(понять дают ли эти признаки какую-либо информацию для целевой переменной)."
   ]
  },
  {
   "cell_type": "code",
   "execution_count": 2,
   "id": "0cb65f29",
   "metadata": {},
   "outputs": [],
   "source": [
    "df = pd.read_csv('test_Feb22.csv', index_col=0, parse_dates=['time'])"
   ]
  },
  {
   "cell_type": "code",
   "execution_count": 3,
   "id": "8f946898",
   "metadata": {},
   "outputs": [
    {
     "data": {
      "text/html": [
       "<div>\n",
       "<style scoped>\n",
       "    .dataframe tbody tr th:only-of-type {\n",
       "        vertical-align: middle;\n",
       "    }\n",
       "\n",
       "    .dataframe tbody tr th {\n",
       "        vertical-align: top;\n",
       "    }\n",
       "\n",
       "    .dataframe thead th {\n",
       "        text-align: right;\n",
       "    }\n",
       "</style>\n",
       "<table border=\"1\" class=\"dataframe\">\n",
       "  <thead>\n",
       "    <tr style=\"text-align: right;\">\n",
       "      <th></th>\n",
       "      <th>time</th>\n",
       "      <th>user_id</th>\n",
       "      <th>type</th>\n",
       "      <th>amount</th>\n",
       "      <th>target</th>\n",
       "      <th>feature1</th>\n",
       "      <th>feature2</th>\n",
       "      <th>events_ordinal_number</th>\n",
       "      <th>second_event_time</th>\n",
       "      <th>loan_ordinal_number</th>\n",
       "      <th>events_time_diff</th>\n",
       "      <th>previous_loans_max_amount</th>\n",
       "    </tr>\n",
       "  </thead>\n",
       "  <tbody>\n",
       "    <tr>\n",
       "      <th>0</th>\n",
       "      <td>2001-01-01 00:00:00</td>\n",
       "      <td>114</td>\n",
       "      <td>loanRequest</td>\n",
       "      <td>14651</td>\n",
       "      <td>NaN</td>\n",
       "      <td>1</td>\n",
       "      <td>1</td>\n",
       "      <td>1</td>\n",
       "      <td>2001-01-25 05:00:00</td>\n",
       "      <td>1</td>\n",
       "      <td>NaN</td>\n",
       "      <td>NaN</td>\n",
       "    </tr>\n",
       "    <tr>\n",
       "      <th>1</th>\n",
       "      <td>2001-01-01 01:00:00</td>\n",
       "      <td>199</td>\n",
       "      <td>loanRequest</td>\n",
       "      <td>13398</td>\n",
       "      <td>NaN</td>\n",
       "      <td>0</td>\n",
       "      <td>0</td>\n",
       "      <td>1</td>\n",
       "      <td>2001-01-08 01:00:00</td>\n",
       "      <td>1</td>\n",
       "      <td>NaN</td>\n",
       "      <td>NaN</td>\n",
       "    </tr>\n",
       "    <tr>\n",
       "      <th>2</th>\n",
       "      <td>2001-01-01 02:00:00</td>\n",
       "      <td>717</td>\n",
       "      <td>loanRequest</td>\n",
       "      <td>14525</td>\n",
       "      <td>NaN</td>\n",
       "      <td>0</td>\n",
       "      <td>0</td>\n",
       "      <td>1</td>\n",
       "      <td>2001-01-09 16:00:00</td>\n",
       "      <td>1</td>\n",
       "      <td>NaN</td>\n",
       "      <td>NaN</td>\n",
       "    </tr>\n",
       "    <tr>\n",
       "      <th>3</th>\n",
       "      <td>2001-01-01 03:00:00</td>\n",
       "      <td>66</td>\n",
       "      <td>loan</td>\n",
       "      <td>14437</td>\n",
       "      <td>1.0</td>\n",
       "      <td>1</td>\n",
       "      <td>1</td>\n",
       "      <td>1</td>\n",
       "      <td>2001-03-27 17:00:00</td>\n",
       "      <td>1</td>\n",
       "      <td>NaN</td>\n",
       "      <td>NaN</td>\n",
       "    </tr>\n",
       "    <tr>\n",
       "      <th>4</th>\n",
       "      <td>2001-01-01 04:00:00</td>\n",
       "      <td>584</td>\n",
       "      <td>loanRequest</td>\n",
       "      <td>15861</td>\n",
       "      <td>NaN</td>\n",
       "      <td>1</td>\n",
       "      <td>0</td>\n",
       "      <td>1</td>\n",
       "      <td>2001-01-05 10:00:00</td>\n",
       "      <td>1</td>\n",
       "      <td>NaN</td>\n",
       "      <td>NaN</td>\n",
       "    </tr>\n",
       "  </tbody>\n",
       "</table>\n",
       "</div>"
      ],
      "text/plain": [
       "                 time  user_id         type  amount  target  feature1  \\\n",
       "0 2001-01-01 00:00:00      114  loanRequest   14651     NaN         1   \n",
       "1 2001-01-01 01:00:00      199  loanRequest   13398     NaN         0   \n",
       "2 2001-01-01 02:00:00      717  loanRequest   14525     NaN         0   \n",
       "3 2001-01-01 03:00:00       66         loan   14437     1.0         1   \n",
       "4 2001-01-01 04:00:00      584  loanRequest   15861     NaN         1   \n",
       "\n",
       "   feature2  events_ordinal_number    second_event_time  loan_ordinal_number  \\\n",
       "0         1                      1  2001-01-25 05:00:00                    1   \n",
       "1         0                      1  2001-01-08 01:00:00                    1   \n",
       "2         0                      1  2001-01-09 16:00:00                    1   \n",
       "3         1                      1  2001-03-27 17:00:00                    1   \n",
       "4         0                      1  2001-01-05 10:00:00                    1   \n",
       "\n",
       "  events_time_diff  previous_loans_max_amount  \n",
       "0              NaN                        NaN  \n",
       "1              NaN                        NaN  \n",
       "2              NaN                        NaN  \n",
       "3              NaN                        NaN  \n",
       "4              NaN                        NaN  "
      ]
     },
     "execution_count": 3,
     "metadata": {},
     "output_type": "execute_result"
    }
   ],
   "source": [
    "df.head()"
   ]
  },
  {
   "cell_type": "code",
   "execution_count": 6,
   "id": "1643dd03",
   "metadata": {},
   "outputs": [
    {
     "data": {
      "text/plain": [
       "<AxesSubplot:>"
      ]
     },
     "execution_count": 6,
     "metadata": {},
     "output_type": "execute_result"
    },
    {
     "data": {
      "image/png": "[encoded data removed]",
      "text/plain": [
       "<Figure size 432x432 with 2 Axes>"
      ]
     },
     "metadata": {
      "needs_background": "light"
     },
     "output_type": "display_data"
    }
   ],
   "source": [
    "# Посмотрим на корреляцию данных\n",
    "df_test = df[['target', 'feature1', 'feature2']].copy()\n",
    "df_test = df_test.fillna(0).astype('int')\n",
    "corr = df_test.corr()\n",
    "fig = plt.figure(figsize=(6,6))\n",
    "sns.heatmap(corr, annot=True, annot_kws={'size':15}, fmt='.2f')"
   ]
  },
  {
   "cell_type": "code",
   "execution_count": 5,
   "id": "0cfa3408",
   "metadata": {},
   "outputs": [],
   "source": [
    "# Есть слабая корреляция (0,13) между признаком feature1 и целевой переменной target"
   ]
  },
  {
   "cell_type": "markdown",
   "id": "b757be8e",
   "metadata": {},
   "source": [
    "#### Статистический анализ значимости для признака feature1 и целевой переменной target"
   ]
  },
  {
   "cell_type": "code",
   "execution_count": 6,
   "id": "cc3b317f",
   "metadata": {},
   "outputs": [
    {
     "data": {
      "text/html": [
       "<div>\n",
       "<style scoped>\n",
       "    .dataframe tbody tr th:only-of-type {\n",
       "        vertical-align: middle;\n",
       "    }\n",
       "\n",
       "    .dataframe tbody tr th {\n",
       "        vertical-align: top;\n",
       "    }\n",
       "\n",
       "    .dataframe thead th {\n",
       "        text-align: right;\n",
       "    }\n",
       "</style>\n",
       "<table border=\"1\" class=\"dataframe\">\n",
       "  <thead>\n",
       "    <tr style=\"text-align: right;\">\n",
       "      <th>feature1</th>\n",
       "      <th>0</th>\n",
       "      <th>1</th>\n",
       "      <th>All</th>\n",
       "    </tr>\n",
       "    <tr>\n",
       "      <th>target</th>\n",
       "      <th></th>\n",
       "      <th></th>\n",
       "      <th></th>\n",
       "    </tr>\n",
       "  </thead>\n",
       "  <tbody>\n",
       "    <tr>\n",
       "      <th>0</th>\n",
       "      <td>3782</td>\n",
       "      <td>5170</td>\n",
       "      <td>8952</td>\n",
       "    </tr>\n",
       "    <tr>\n",
       "      <th>1</th>\n",
       "      <td>218</td>\n",
       "      <td>830</td>\n",
       "      <td>1048</td>\n",
       "    </tr>\n",
       "    <tr>\n",
       "      <th>All</th>\n",
       "      <td>4000</td>\n",
       "      <td>6000</td>\n",
       "      <td>10000</td>\n",
       "    </tr>\n",
       "  </tbody>\n",
       "</table>\n",
       "</div>"
      ],
      "text/plain": [
       "feature1     0     1    All\n",
       "target                     \n",
       "0         3782  5170   8952\n",
       "1          218   830   1048\n",
       "All       4000  6000  10000"
      ]
     },
     "execution_count": 6,
     "metadata": {},
     "output_type": "execute_result"
    }
   ],
   "source": [
    "# Построим таблицу сопряженности значений для признака feature1 и целевой переменной target\n",
    "crosstable1 = pd.crosstab(df_test.target, df_test.feature1, margins=True)\n",
    "crosstable1"
   ]
  },
  {
   "cell_type": "code",
   "execution_count": 7,
   "id": "e8b235d6",
   "metadata": {},
   "outputs": [],
   "source": [
    "# Условия статистического теста:\n",
    "# Ho - гипотеза о том, что распределение не отличаются от ожидаемого (т.е. две переменные независимы между собой)\n",
    "# Н1 - гипотеза о том, что распределение отличаются от ожидаемого (т.е. две переменные зависимы между собой)\n",
    "# Уровень значимости принимаем 0,05"
   ]
  },
  {
   "cell_type": "code",
   "execution_count": 8,
   "id": "dd3d43ee",
   "metadata": {
    "scrolled": true
   },
   "outputs": [
    {
     "data": {
      "text/html": [
       "<div>\n",
       "<style scoped>\n",
       "    .dataframe tbody tr th:only-of-type {\n",
       "        vertical-align: middle;\n",
       "    }\n",
       "\n",
       "    .dataframe tbody tr th {\n",
       "        vertical-align: top;\n",
       "    }\n",
       "\n",
       "    .dataframe thead th {\n",
       "        text-align: right;\n",
       "    }\n",
       "</style>\n",
       "<table border=\"1\" class=\"dataframe\">\n",
       "  <thead>\n",
       "    <tr style=\"text-align: right;\">\n",
       "      <th>feature1</th>\n",
       "      <th>0</th>\n",
       "      <th>1</th>\n",
       "      <th>All</th>\n",
       "    </tr>\n",
       "    <tr>\n",
       "      <th>target</th>\n",
       "      <th></th>\n",
       "      <th></th>\n",
       "      <th></th>\n",
       "    </tr>\n",
       "  </thead>\n",
       "  <tbody>\n",
       "    <tr>\n",
       "      <th>0</th>\n",
       "      <td>3580.8</td>\n",
       "      <td>5371.2</td>\n",
       "      <td>8952</td>\n",
       "    </tr>\n",
       "    <tr>\n",
       "      <th>1</th>\n",
       "      <td>419.2</td>\n",
       "      <td>628.8</td>\n",
       "      <td>1048</td>\n",
       "    </tr>\n",
       "    <tr>\n",
       "      <th>All</th>\n",
       "      <td>4000.0</td>\n",
       "      <td>6000.0</td>\n",
       "      <td>10000</td>\n",
       "    </tr>\n",
       "  </tbody>\n",
       "</table>\n",
       "</div>"
      ],
      "text/plain": [
       "feature1       0       1    All\n",
       "target                         \n",
       "0         3580.8  5371.2   8952\n",
       "1          419.2   628.8   1048\n",
       "All       4000.0  6000.0  10000"
      ]
     },
     "execution_count": 8,
     "metadata": {},
     "output_type": "execute_result"
    }
   ],
   "source": [
    "# Построим таблицу сопряженности ожидаемых значений для признака feature1 и целевой переменной target\n",
    "crosstable1_norm = crosstable1.copy()\n",
    "perc_target_0 = crosstable1.loc['All', 0] / crosstable1.loc['All', 'All']\n",
    "perc_target_1 = crosstable1.loc['All', 1] / crosstable1.loc['All', 'All']\n",
    "crosstable1_norm.loc[[0, 1], 0] = crosstable1_norm.loc[[0, 1], 'All'] * perc_target_0\n",
    "crosstable1_norm.loc[[0, 1], 1] = crosstable1_norm.loc[[0, 1], 'All'] * perc_target_1 \n",
    "crosstable1_norm"
   ]
  },
  {
   "cell_type": "code",
   "execution_count": 9,
   "id": "7b286c93",
   "metadata": {},
   "outputs": [
    {
     "data": {
      "text/plain": [
       "179.78909854536607"
      ]
     },
     "execution_count": 9,
     "metadata": {},
     "output_type": "execute_result"
    }
   ],
   "source": [
    "# Расчитаем значения Хи-квадрат\n",
    "X_2 = ((crosstable1.iloc[0:2,0:2] - crosstable1_norm.iloc[0:2,0:2])**2 / crosstable1_norm.iloc[0:2,0:2]).sum().sum()\n",
    "X_2"
   ]
  },
  {
   "cell_type": "code",
   "execution_count": 10,
   "id": "cdec9352",
   "metadata": {},
   "outputs": [],
   "source": [
    "# Рассчитаем степени свободы\n",
    "n = 1 # (строки-1)*(столбцы-1) = (2-1)*(2-1) = 1"
   ]
  },
  {
   "cell_type": "code",
   "execution_count": 11,
   "id": "6b35a28f",
   "metadata": {},
   "outputs": [],
   "source": [
    "# Табличное критическое значение Хи-квадрат при уровне значимости 0.05 и n=1 равняется 3.841\n",
    "X_2_table = 3.841"
   ]
  },
  {
   "cell_type": "code",
   "execution_count": 12,
   "id": "7888e7f7",
   "metadata": {},
   "outputs": [
    {
     "data": {
      "text/plain": [
       "True"
      ]
     },
     "execution_count": 12,
     "metadata": {},
     "output_type": "execute_result"
    }
   ],
   "source": [
    "X_2 >= X_2_table"
   ]
  },
  {
   "cell_type": "code",
   "execution_count": 13,
   "id": "3ff55721",
   "metadata": {},
   "outputs": [],
   "source": [
    "# Следовательно, у нас есть основания отклонить Но гипотезу и принять альтернативную Н1\n",
    "# Т.о. зависимость м/д признаком feature1 и целевой переменной target статистически значима, при уровне значимости 0.05."
   ]
  },
  {
   "cell_type": "code",
   "execution_count": 14,
   "id": "0ae325f1",
   "metadata": {
    "scrolled": true
   },
   "outputs": [
    {
     "data": {
      "text/plain": [
       "(179.78909854536604,\n",
       " 5.388511407777178e-41,\n",
       " 1,\n",
       " array([[3580.8, 5371.2],\n",
       "        [ 419.2,  628.8]]))"
      ]
     },
     "execution_count": 14,
     "metadata": {},
     "output_type": "execute_result"
    }
   ],
   "source": [
    "# Расчет при помощи библиотеки scipy\n",
    "chi2_contingency(crosstable1.iloc[0:2,0:2], correction=False)"
   ]
  },
  {
   "cell_type": "code",
   "execution_count": 15,
   "id": "9dde8eb6",
   "metadata": {},
   "outputs": [],
   "source": [
    "# Получаем такие же результаты. \n",
    "# Так же видим, что р = 5.388511407777178e-41 < 0.05, что позволяет отклонить Но гипотезу"
   ]
  },
  {
   "cell_type": "markdown",
   "id": "271b92af",
   "metadata": {},
   "source": [
    "#### Статистический анализ значимости для признака feature2 и целевой переменной target"
   ]
  },
  {
   "cell_type": "code",
   "execution_count": 16,
   "id": "2fd6d651",
   "metadata": {},
   "outputs": [
    {
     "data": {
      "text/html": [
       "<div>\n",
       "<style scoped>\n",
       "    .dataframe tbody tr th:only-of-type {\n",
       "        vertical-align: middle;\n",
       "    }\n",
       "\n",
       "    .dataframe tbody tr th {\n",
       "        vertical-align: top;\n",
       "    }\n",
       "\n",
       "    .dataframe thead th {\n",
       "        text-align: right;\n",
       "    }\n",
       "</style>\n",
       "<table border=\"1\" class=\"dataframe\">\n",
       "  <thead>\n",
       "    <tr style=\"text-align: right;\">\n",
       "      <th>feature2</th>\n",
       "      <th>0</th>\n",
       "      <th>1</th>\n",
       "      <th>All</th>\n",
       "    </tr>\n",
       "    <tr>\n",
       "      <th>target</th>\n",
       "      <th></th>\n",
       "      <th></th>\n",
       "      <th></th>\n",
       "    </tr>\n",
       "  </thead>\n",
       "  <tbody>\n",
       "    <tr>\n",
       "      <th>0</th>\n",
       "      <td>4446</td>\n",
       "      <td>4506</td>\n",
       "      <td>8952</td>\n",
       "    </tr>\n",
       "    <tr>\n",
       "      <th>1</th>\n",
       "      <td>554</td>\n",
       "      <td>494</td>\n",
       "      <td>1048</td>\n",
       "    </tr>\n",
       "    <tr>\n",
       "      <th>All</th>\n",
       "      <td>5000</td>\n",
       "      <td>5000</td>\n",
       "      <td>10000</td>\n",
       "    </tr>\n",
       "  </tbody>\n",
       "</table>\n",
       "</div>"
      ],
      "text/plain": [
       "feature2     0     1    All\n",
       "target                     \n",
       "0         4446  4506   8952\n",
       "1          554   494   1048\n",
       "All       5000  5000  10000"
      ]
     },
     "execution_count": 16,
     "metadata": {},
     "output_type": "execute_result"
    }
   ],
   "source": [
    "# Построим таблицу сопряженности значений для признака feature2 и целевой переменной target\n",
    "crosstable2 = pd.crosstab(df_test.target, df_test.feature2, margins=True)\n",
    "crosstable2"
   ]
  },
  {
   "cell_type": "code",
   "execution_count": 17,
   "id": "331ffce9",
   "metadata": {},
   "outputs": [],
   "source": [
    "# Условия статистического теста:\n",
    "# Ho - гипотеза о том, что распределение не отличаются от ожидаемого (т.е. две переменные независимы между собой)\n",
    "# Н1 - гипотеза о том, что распределение отличаются от ожидаемого (т.е. две переменные зависимы между собой)\n",
    "# Уровень значимости принимаем 0,05"
   ]
  },
  {
   "cell_type": "code",
   "execution_count": 18,
   "id": "de7f3e93",
   "metadata": {},
   "outputs": [
    {
     "data": {
      "text/html": [
       "<div>\n",
       "<style scoped>\n",
       "    .dataframe tbody tr th:only-of-type {\n",
       "        vertical-align: middle;\n",
       "    }\n",
       "\n",
       "    .dataframe tbody tr th {\n",
       "        vertical-align: top;\n",
       "    }\n",
       "\n",
       "    .dataframe thead th {\n",
       "        text-align: right;\n",
       "    }\n",
       "</style>\n",
       "<table border=\"1\" class=\"dataframe\">\n",
       "  <thead>\n",
       "    <tr style=\"text-align: right;\">\n",
       "      <th>feature2</th>\n",
       "      <th>0</th>\n",
       "      <th>1</th>\n",
       "      <th>All</th>\n",
       "    </tr>\n",
       "    <tr>\n",
       "      <th>target</th>\n",
       "      <th></th>\n",
       "      <th></th>\n",
       "      <th></th>\n",
       "    </tr>\n",
       "  </thead>\n",
       "  <tbody>\n",
       "    <tr>\n",
       "      <th>0</th>\n",
       "      <td>4476.0</td>\n",
       "      <td>4476.0</td>\n",
       "      <td>8952</td>\n",
       "    </tr>\n",
       "    <tr>\n",
       "      <th>1</th>\n",
       "      <td>524.0</td>\n",
       "      <td>524.0</td>\n",
       "      <td>1048</td>\n",
       "    </tr>\n",
       "    <tr>\n",
       "      <th>All</th>\n",
       "      <td>5000.0</td>\n",
       "      <td>5000.0</td>\n",
       "      <td>10000</td>\n",
       "    </tr>\n",
       "  </tbody>\n",
       "</table>\n",
       "</div>"
      ],
      "text/plain": [
       "feature2       0       1    All\n",
       "target                         \n",
       "0         4476.0  4476.0   8952\n",
       "1          524.0   524.0   1048\n",
       "All       5000.0  5000.0  10000"
      ]
     },
     "execution_count": 18,
     "metadata": {},
     "output_type": "execute_result"
    }
   ],
   "source": [
    "# Построим таблицу сопряженности ожидаемых значений для признака feature2 и целевой переменной target\n",
    "crosstable2_norm = crosstable2.copy()\n",
    "perc_target_0 = crosstable2.loc['All', 0] / crosstable2.loc['All', 'All']\n",
    "perc_target_1 = crosstable2.loc['All', 1] / crosstable2.loc['All', 'All']\n",
    "crosstable2_norm.loc[[0, 1], 0] = crosstable2_norm.loc[[0, 1], 'All'] * perc_target_0\n",
    "crosstable2_norm.loc[[0, 1], 1] = crosstable2_norm.loc[[0, 1], 'All'] * perc_target_1 \n",
    "crosstable2_norm"
   ]
  },
  {
   "cell_type": "code",
   "execution_count": 19,
   "id": "33e6b53f",
   "metadata": {},
   "outputs": [
    {
     "data": {
      "text/plain": [
       "3.8372592759347564"
      ]
     },
     "execution_count": 19,
     "metadata": {},
     "output_type": "execute_result"
    }
   ],
   "source": [
    "# Рассчитаем значения Хи-квадрат\n",
    "X_2 = ((crosstable2.iloc[0:2,0:2] - crosstable2_norm.iloc[0:2,0:2])**2 / crosstable2_norm.iloc[0:2,0:2]).sum().sum()\n",
    "X_2"
   ]
  },
  {
   "cell_type": "code",
   "execution_count": 20,
   "id": "291d1890",
   "metadata": {},
   "outputs": [],
   "source": [
    "# Рассчитаем степени свободы\n",
    "n = 1 # (строки-1)*(столбцы-1) = (2-1)*(2-1) = 1"
   ]
  },
  {
   "cell_type": "code",
   "execution_count": 21,
   "id": "023781be",
   "metadata": {},
   "outputs": [],
   "source": [
    "# Табличное критическое значение Хи-квадрат при уровне значимости 0.05 и n=1 равно 3.841\n",
    "X_2_table = 3.841"
   ]
  },
  {
   "cell_type": "code",
   "execution_count": 22,
   "id": "8337baa7",
   "metadata": {},
   "outputs": [
    {
     "data": {
      "text/plain": [
       "False"
      ]
     },
     "execution_count": 22,
     "metadata": {},
     "output_type": "execute_result"
    }
   ],
   "source": [
    "X_2 >= X_2_table"
   ]
  },
  {
   "cell_type": "code",
   "execution_count": 23,
   "id": "20ec77c5",
   "metadata": {},
   "outputs": [],
   "source": [
    "# Следовательно, у нас нет оснований отклонить Но гипотезу\n",
    "# Т.о. отсутствует статистически значимая зависимость м/д признаком feature2 и целевой переменной target отсутствует, при уровне значимости 0.05."
   ]
  },
  {
   "cell_type": "code",
   "execution_count": 24,
   "id": "06e57a78",
   "metadata": {},
   "outputs": [
    {
     "data": {
      "text/plain": [
       "(3.8372592759347564,\n",
       " 0.05012539402106109,\n",
       " 1,\n",
       " array([[4476., 4476.],\n",
       "        [ 524.,  524.]]))"
      ]
     },
     "execution_count": 24,
     "metadata": {},
     "output_type": "execute_result"
    }
   ],
   "source": [
    "# Расчет при помощи библиотеки scipy\n",
    "chi2_contingency(crosstable2.iloc[0:2,0:2], correction=False)"
   ]
  },
  {
   "cell_type": "code",
   "execution_count": 25,
   "id": "cee66565",
   "metadata": {},
   "outputs": [],
   "source": [
    "# Получаем такие же результаты. \n",
    "# Так же видим, что р = 0.05012539402106109 > 0.05, что не позволяет отклонить Но гипотезу"
   ]
  }
 ],
 "metadata": {
  "kernelspec": {
   "display_name": "Python 3 (ipykernel)",
   "language": "python",
   "name": "python3"
  },
  "language_info": {
   "codemirror_mode": {
    "name": "ipython",
    "version": 3
   },
   "file_extension": ".py",
   "mimetype": "text/x-python",
   "name": "python",
   "nbconvert_exporter": "python",
   "pygments_lexer": "ipython3",
   "version": "3.9.7"
  }
 },
 "nbformat": 4,
 "nbformat_minor": 5
}
