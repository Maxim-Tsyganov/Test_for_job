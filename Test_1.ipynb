{
 "cells": [
  {
   "cell_type": "markdown",
   "id": "ba821786",
   "metadata": {},
   "source": [
    "## Задание 1\n",
    "Требуется написать и отправить код, в котором будет выполнено:  \n",
    "1.\tПодключение к базе данных.\n",
    "2.\tЗапрос SQL для загрузки данных за январь 2021 г (необходимо отфильтровать данные, а также сгруппировать выработку, чтобы получить среднюю и суммарную посуточно).\n",
    "3.\tОбработка данных.  \n",
    "\n",
    "### Исходные данные\n",
    "СУБД: MS SQL \n",
    "Название БД: qwerty  \n",
    "Пользовать: user  \n",
    "Пароль: password  \n",
    "IP-адрес сервера: 85.114.8.250  \n",
    "\n",
    "В базе данных находятся следующие таблицы:  \n",
    "<u>**Date:**</u>  \n",
    "•\tDate_id  \n",
    "•\tDate_time (время в формате “%Y.%M.%D”)  \n",
    "<u>**Hour:**</u>  \n",
    "•\tHour_id  \n",
    "•\tHour (номер часа от 0 до 23)  \n",
    "<u>**Stations:**</u>  \n",
    "•\tStation_name  \n",
    "•\tGen_unit_id  \n",
    "•\tGen_unit_name  \n",
    "<u>**Generation:**</u>  \n",
    "•\tDate_id  \n",
    "•\tHour_id  \n",
    "•\tGen_unit_id  \n",
    "•\tGeneration_hour (выработка электроэнергии за час)  "
   ]
  },
  {
   "attachments": {
    "2022-04-01_07-05-09.png": {
     "image/png": "[encoded data removed]"
    }
   },
   "cell_type": "markdown",
   "id": "b02ca35d",
   "metadata": {},
   "source": [
    "В результате выполнения кода должна получиться следующая таблица\n",
    "![2022-04-01_07-05-09.png](attachment:2022-04-01_07-05-09.png)"
   ]
  },
  {
   "cell_type": "code",
   "execution_count": 7,
   "id": "86fa4acc",
   "metadata": {},
   "outputs": [],
   "source": [
    "import pyodbc"
   ]
  },
  {
   "cell_type": "code",
   "execution_count": 1,
   "id": "7921d263",
   "metadata": {},
   "outputs": [],
   "source": [
    "server = '85.114.8.250'\n",
    "database = 'qwerty'\n",
    "username = 'user'\n",
    "password = 'password'   \n",
    "driver= '{ODBC Driver 18 for SQL Server}'\n",
    "\n",
    "cnxn = pyodbc.connect('DRIVER='+driver+';SERVER='+server+';DATABASE='+database+';UID='+username+';PWD='+password)\n",
    "cursor = cnxn.cursor()"
   ]
  },
  {
   "cell_type": "code",
   "execution_count": null,
   "id": "3fa00406",
   "metadata": {},
   "outputs": [],
   "source": [
    "request = '''\n",
    "          SELECT YEAR(Date_time) AS Год,\n",
    "                 MONTH(Date_time) AS Месяц,\n",
    "                 DAY(Date_time) AS День,\n",
    "                 Station_name,\n",
    "                 Gen_unit_name,\n",
    "                 AVG(Generation_hour) AS 'Средняя выработка за сутки',\n",
    "                 SUM(Generation_hour) AS 'Суммарная выработка за сутки'\n",
    "            FROM Generation \n",
    "                 INNER JOIN Stations USING(Gen_unit_id)\n",
    "                 INNER JOIN Date USING(Date_id)\n",
    "                 INNER JOIN Hour USING(Hour_id)\n",
    "           WHERE Date_time BETWEEN '2021.01.01' AND '2021.12.31'\n",
    "        GROUP BY Date_time,\n",
    "                 Station_name, \n",
    "                 Gen_unit_name\n",
    "        ORDER BY Год, Месяц, День\n",
    "        ''' \n",
    "\n",
    "cursor.execute(request)\n",
    "row = cursor.fetchone() \n",
    "while row: \n",
    "    print(row[0])\n",
    "    row = cursor.fetchone()"
   ]
  }
 ],
 "metadata": {
  "kernelspec": {
   "display_name": "Python 3 (ipykernel)",
   "language": "python",
   "name": "python3"
  },
  "language_info": {
   "codemirror_mode": {
    "name": "ipython",
    "version": 3
   },
   "file_extension": ".py",
   "mimetype": "text/x-python",
   "name": "python",
   "nbconvert_exporter": "python",
   "pygments_lexer": "ipython3",
   "version": "3.9.7"
  }
 },
 "nbformat": 4,
 "nbformat_minor": 5
}
